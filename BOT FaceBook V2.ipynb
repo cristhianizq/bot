{
 "cells": [
  {
   "cell_type": "markdown",
   "metadata": {},
   "source": [
    "# bot r-sales"
   ]
  },
  {
   "cell_type": "code",
   "execution_count": null,
   "metadata": {},
   "outputs": [],
   "source": []
  },
  {
   "cell_type": "code",
   "execution_count": 20,
   "metadata": {},
   "outputs": [],
   "source": [
    "from selenium import webdriver\n",
    "from selenium.webdriver.common.keys import Keys\n",
    "from selenium.webdriver.common.by import By\n",
    "from selenium.webdriver.support.ui import WebDriverWait\n",
    "from selenium.webdriver.support import expected_conditions as EC"
   ]
  },
  {
   "cell_type": "code",
   "execution_count": 21,
   "metadata": {},
   "outputs": [],
   "source": [
    "#PATH = \"C:\\Users\\CristhianJohnatanIzq\\OneDrive - SQDM\\Proyecto15_Car_botFacebook\\chromedriver.exe\"\n",
    "PATH = \"C:\\\\Users\\\\CristhianJohnatanIzq\\\\bot\\\\chromedriver.exe\""
   ]
  },
  {
   "cell_type": "code",
   "execution_count": 22,
   "metadata": {},
   "outputs": [],
   "source": [
    "driver = webdriver.Chrome(PATH)"
   ]
  },
  {
   "cell_type": "code",
   "execution_count": 23,
   "metadata": {},
   "outputs": [],
   "source": [
    "driver.get(\"https://partners.facebook.com/actionable_insights/apps/?partner_id=140554955988172&app=market_insights§ion=lifecycle\")"
   ]
  },
  {
   "cell_type": "code",
   "execution_count": 24,
   "metadata": {},
   "outputs": [
    {
     "name": "stdout",
     "output_type": "stream",
     "text": [
      "Partner Portal\n"
     ]
    }
   ],
   "source": [
    "print(driver.title)"
   ]
  },
  {
   "cell_type": "code",
   "execution_count": 26,
   "metadata": {},
   "outputs": [
    {
     "data": {
      "text/plain": [
       "'\\ntry:\\n    ingreso= WebDriverWait(driver,2).until(\\n        EC.presence_of_element_located((By.ID, \"fullPage\"))\\n    )\\n    #botonSi=ingreso.find_element_by_class_name(\"btn-success\")\\n    botonSi=ingreso.find_element_by_class_name(\"_42ft _4jy0 _4jy3 _4jy1 selected _51sy\")\\n    #//*[@id=\"facebook\"]/body/div/div[1]/div[2]/div/div/div/div/div[3]/div/div[1]/a[2]\\n    botonSi.click()\\n    \\nfinally:\\n    print (\"error\")\\n'"
      ]
     },
     "execution_count": 26,
     "metadata": {},
     "output_type": "execute_result"
    }
   ],
   "source": [
    "search_button = driver.find_element_by_xpath('//*[@id=\"facebook\"]/body/div/div[1]/div[2]/div/div/div/div/div[3]/div/div[1]/a[2]')\n",
    "search_button.click()"
   ]
  },
  {
   "cell_type": "code",
   "execution_count": null,
   "metadata": {},
   "outputs": [],
   "source": [
    "#ingreso credenciales"
   ]
  },
  {
   "cell_type": "code",
   "execution_count": 30,
   "metadata": {},
   "outputs": [],
   "source": [
    "search = driver.find_element_by_xpath(\"//*[@id='email']\")\n",
    "search.send_keys(\"carlosmora8806@hotmail.com\")"
   ]
  },
  {
   "cell_type": "code",
   "execution_count": 31,
   "metadata": {},
   "outputs": [],
   "source": [
    "search = driver.find_element_by_xpath(\"//*[@id='pass']\")\n",
    "search.send_keys(\"Rodrigo2406*+\")"
   ]
  },
  {
   "cell_type": "code",
   "execution_count": 29,
   "metadata": {},
   "outputs": [],
   "source": [
    "search_button = driver.find_element_by_xpath('//*[@id=\"loginbutton\"]')\n",
    "search_button.click()"
   ]
  },
  {
   "cell_type": "code",
   "execution_count": 37,
   "metadata": {},
   "outputs": [],
   "source": [
    "#login\n",
    "search = driver.find_element_by_xpath(\"//input[@ng-model='loginData.companyCode']\")\n",
    "search.send_keys(\"800164767\")\n",
    "search = driver.find_element_by_xpath(\"//input[@ng-model='loginData.userCode']\")\n",
    "search.send_keys(\"CONSULTACIFE\")\n",
    "search = driver.find_element_by_xpath(\"//input[@ng-model='loginData.password']\")\n",
    "search.send_keys(\"C1f32019*\")\n",
    "search.send_keys(Keys.RETURN)"
   ]
  },
  {
   "cell_type": "code",
   "execution_count": 43,
   "metadata": {
    "scrolled": true
   },
   "outputs": [
    {
     "name": "stdout",
     "output_type": "stream",
     "text": [
      "error\n"
     ]
    }
   ],
   "source": [
    "#search = driver.find_element_by_xpath(\"//button[@class='btn-success']\")\n",
    "#search.click()\n",
    "\n",
    "\n",
    "try:\n",
    "    ingreso= WebDriverWait(driver,10).until(\n",
    "        EC.presence_of_element_located((By.ID, \"fullPage\"))\n",
    "    )\n",
    "    botonSi=ingreso.find_element_by_class_name(\"btn-success\")\n",
    "    botonSi.click()\n",
    "    \n",
    "finally:\n",
    "    print (\"error\")\n",
    "    \n",
    "# boton se \"si\" en recordar cuenta\n",
    "\n"
   ]
  },
  {
   "cell_type": "markdown",
   "metadata": {},
   "source": [
    "# Validar logeo inicial en FaceBook"
   ]
  },
  {
   "cell_type": "code",
   "execution_count": 32,
   "metadata": {},
   "outputs": [],
   "source": [
    "driver.get(\"https://partners.facebook.com/actionable_insights/apps/?partner_id=140554955988172&app=market_insights§ion=lifecycle\")"
   ]
  },
  {
   "cell_type": "code",
   "execution_count": 34,
   "metadata": {},
   "outputs": [],
   "source": [
    "driver.get(\"https://partners.facebook.com/actionable_insights/apps/?partner_id=140554955988172&app=local_insights&section=li_report_builder\")"
   ]
  },
  {
   "cell_type": "code",
   "execution_count": 36,
   "metadata": {},
   "outputs": [],
   "source": [
    "sign_button = driver.find_element_by_link_text('Informe sin título')\n",
    "sign_button.click()"
   ]
  },
  {
   "cell_type": "code",
   "execution_count": 38,
   "metadata": {},
   "outputs": [],
   "source": [
    "table_id = driver.find_element(By.XPATH, \"//*[@id='vizContent']/div[2]/div[1]/div/div[2]/div\")"
   ]
  },
  {
   "cell_type": "code",
   "execution_count": 39,
   "metadata": {
    "scrolled": true
   },
   "outputs": [
    {
     "data": {
      "text/plain": [
       "<selenium.webdriver.remote.webelement.WebElement (session=\"8b6a4f50cc8272a3653789f29c75ed67\", element=\"13a1d5c3-62cb-4a15-818b-9fbe2e0f0154\")>"
      ]
     },
     "execution_count": 39,
     "metadata": {},
     "output_type": "execute_result"
    }
   ],
   "source": [
    "table_id"
   ]
  },
  {
   "cell_type": "code",
   "execution_count": 40,
   "metadata": {},
   "outputs": [],
   "source": [
    "valores=driver.find_element_by_class_name(\"ellipsis\")"
   ]
  },
  {
   "cell_type": "code",
   "execution_count": 41,
   "metadata": {},
   "outputs": [
    {
     "data": {
      "text/plain": [
       "<selenium.webdriver.remote.webelement.WebElement (session=\"8b6a4f50cc8272a3653789f29c75ed67\", element=\"6826717f-193f-476a-9c84-5669d9f12b99\")>"
      ]
     },
     "execution_count": 41,
     "metadata": {},
     "output_type": "execute_result"
    }
   ],
   "source": [
    "valores"
   ]
  },
  {
   "cell_type": "code",
   "execution_count": 42,
   "metadata": {},
   "outputs": [
    {
     "ename": "TypeError",
     "evalue": "'WebElement' object is not subscriptable",
     "output_type": "error",
     "traceback": [
      "\u001b[1;31m---------------------------------------------------------------------------\u001b[0m",
      "\u001b[1;31mTypeError\u001b[0m                                 Traceback (most recent call last)",
      "\u001b[1;32m<ipython-input-42-8bd38e4004c3>\u001b[0m in \u001b[0;36m<module>\u001b[1;34m\u001b[0m\n\u001b[1;32m----> 1\u001b[1;33m \u001b[0mvalores\u001b[0m\u001b[1;33m[\u001b[0m\u001b[1;36m0\u001b[0m\u001b[1;33m]\u001b[0m\u001b[1;33m\u001b[0m\u001b[1;33m\u001b[0m\u001b[0m\n\u001b[0m",
      "\u001b[1;31mTypeError\u001b[0m: 'WebElement' object is not subscriptable"
     ]
    }
   ],
   "source": [
    "valores[0]"
   ]
  },
  {
   "cell_type": "code",
   "execution_count": 43,
   "metadata": {},
   "outputs": [
    {
     "data": {
      "text/plain": [
       "'050001'"
      ]
     },
     "execution_count": 43,
     "metadata": {},
     "output_type": "execute_result"
    }
   ],
   "source": [
    "valores.text"
   ]
  },
  {
   "cell_type": "code",
   "execution_count": null,
   "metadata": {},
   "outputs": [],
   "source": [
    "#find_element_by_class_name()"
   ]
  },
  {
   "cell_type": "code",
   "execution_count": null,
   "metadata": {},
   "outputs": [],
   "source": [
    "### Tabla\n",
    "//*[@id=\"vizContent\"]/div[2]/div[1]/div/div[2]/div"
   ]
  },
  {
   "cell_type": "code",
   "execution_count": 35,
   "metadata": {},
   "outputs": [],
   "source": [
    "#search_button = driver.find_element_by_xpath('//*[@id=\"js_z\"]/div/div')\n",
    "#search_button.click()\n",
    "#//*[@id=\"js_z\"]/div/div"
   ]
  },
  {
   "cell_type": "code",
   "execution_count": 16,
   "metadata": {},
   "outputs": [],
   "source": [
    "driver.quit()"
   ]
  },
  {
   "cell_type": "code",
   "execution_count": null,
   "metadata": {},
   "outputs": [],
   "source": []
  }
 ],
 "metadata": {
  "kernelspec": {
   "display_name": "Python 3",
   "language": "python",
   "name": "python3"
  },
  "language_info": {
   "codemirror_mode": {
    "name": "ipython",
    "version": 3
   },
   "file_extension": ".py",
   "mimetype": "text/x-python",
   "name": "python",
   "nbconvert_exporter": "python",
   "pygments_lexer": "ipython3",
   "version": "3.9.0"
  }
 },
 "nbformat": 4,
 "nbformat_minor": 4
}
